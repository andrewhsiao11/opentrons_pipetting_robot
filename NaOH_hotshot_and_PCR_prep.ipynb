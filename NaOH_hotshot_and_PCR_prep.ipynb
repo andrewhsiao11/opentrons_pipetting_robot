{
 "cells": [
  {
   "cell_type": "markdown",
   "metadata": {},
   "source": [
    "# NaOH hotshot and PCR prep protocol\n",
    "\n",
    "Begin by turning on oven in Durand lab at 150C.\n",
    "1. place your well plate and fill falcon tube in slot A1 with 3ml of 2M NaOH\n",
    "2. check offsets and dispense NaOH to wells\n",
    "    - final concentration is 50mM NaOH so 12ul of 2M NaOH in 300ul wells\n",
    "3. place your plate in the oven with glass cover for 15 minutes\n",
    "4. fill falcon tube with 5ml of 1M Tris-HCL pH8 in slots A4 and A5 and dispense to wells\n",
    "    - final concentration is 100mM Tris-HCL so 30ul of 1M Tris-HCL in 300ul wells\n",
    "5. place your empty gDNA plates in the yellow clearline labware spots\n",
    "6. refill all p200 tips (need a tip for every well you have)\n",
    "7. Transfer DNA from wells to gDNA plates\n",
    "\n",
    "PCR set up:\n",
    "1. place PCR tubes in yellow clearline labware spots\n",
    "2. make master mix in eppendorf tubes (1 tube per 96 tubes) placed in slots B1, B2, B3\n",
    "    - your master mix should be 5% more than the based amount needed for a mix.\n",
    "3. select number of tubes you will fill and dispense to PCR tubes"
   ]
  },
  {
   "cell_type": "code",
   "execution_count": 2,
   "metadata": {
    "scrolled": true
   },
   "outputs": [
    {
     "name": "stdout",
     "output_type": "stream",
     "text": [
      "done homing, run next cell\n",
      "registered slack messenger\n"
     ]
    }
   ],
   "source": [
    "import opentrons.execute\n",
    "import time\n",
    "protocol = opentrons.execute.get_protocol_api('2.12')\n",
    "\n",
    "\n",
    "metadata = {\n",
    "    'protocolName': 'NaOH Lysis and PCR prep',\n",
    "    'author': 'Andrew Hsiao <andrew.hsiao@univ-lyon1.fr>',\n",
    "    'description': 'NaOH lysis protocol from a 300 well plate for PCR genotyping, followed by PCR prep of tubes',\n",
    "    'apiLevel': '2.12'\n",
    "}\n",
    "\n",
    "# SETUP and INITIALIZE LABWARE:\n",
    "# will return a single list ordered by row [A1, A2...A20, B1, B2] - 'left to right, top to bottom'\n",
    "def get_wells_by_row(plate):\n",
    "    rows = plate.rows()  # list of list ordered by row [[A1,A2], [B1,B2]]\n",
    "    wells_by_row = []\n",
    "    for i in range(len(rows)):\n",
    "        for j in range(len(rows[i])):\n",
    "            wells_by_row.append(rows[i][j])\n",
    "    return wells_by_row\n",
    "\n",
    "# load tips--> note p200 tips are used here\n",
    "tiprack_200_10 = protocol.load_labware('fisher_96_tiprack_200ul', '10')\n",
    "tiprack_200_11 = protocol.load_labware('fisher_96_tiprack_200ul', '11') \n",
    "tiprack_200_9 = protocol.load_labware('fisher_96_tiprack_200ul', '9')\n",
    "\n",
    "# load labware\n",
    "eppendorfs = protocol.load_labware('randlettlab_combirack', 1)\n",
    "plate_gDNA_8 = protocol.load_labware('clearlineinyellowpurpleclearline_96_wellplate_330ul', '8')\n",
    "plate_gDNA_7 = protocol.load_labware('clearlineinyellowpurpleclearline_96_wellplate_330ul', '7')\n",
    "plate_gDNA_4 = protocol.load_labware('clearlineinyellowpurpleclearline_96_wellplate_330ul', '4')\n",
    "plate_300well = protocol.load_labware('randlettlab_300_wellplate_300ul', '2')\n",
    "# getting list of wells - 'left to right, top to bottom'\n",
    "wells = get_wells_by_row(plate_300well)\n",
    "# combine all gDNA plates into one list\n",
    "gdna_plate_wells = plate_gDNA_7.wells() + plate_gDNA_4.wells() + plate_gDNA_8.wells() # len = 288\n",
    "\n",
    "# load pipettes\n",
    "# p1000 = protocol.load_instrument('p1000_single_gen2', 'left', tip_racks=[tiprack_1000_9])\n",
    "p300 = protocol.load_instrument('p300_single_gen2', 'right', tip_racks=[tiprack_200_10, tiprack_200_11, tiprack_200_9])\n",
    "\n",
    "protocol.home()\n",
    "print('done homing, run next cell')\n",
    "# how to delete labware\n",
    "#del protocol.deck['1'] # this deletes what is in slot 1, and can load something else\n",
    "\n",
    "# slack messenger bot\n",
    "def send_slack_message(message: str):\n",
    "    import requests\n",
    "    \n",
    "    payload = '{\"text\": \"%s\"}' % message \n",
    "    response = requests.post(\n",
    "        \"SLACK ACCOUNT HOOK HERE\", \n",
    "        data = payload\n",
    "        )\n",
    "    print(response.text)\n",
    "print('registered slack messenger')"
   ]
  },
  {
   "cell_type": "markdown",
   "metadata": {},
   "source": [
    "# Set offsets and check positions for p300 pipette (using p200 tips)"
   ]
  },
  {
   "cell_type": "code",
   "execution_count": 3,
   "metadata": {
    "scrolled": true
   },
   "outputs": [
    {
     "name": "stdout",
     "output_type": "stream",
     "text": [
      "A1 of ClearLine 96 Well Plate 330 µL - Domi Domi on 7\n",
      "A1 of ClearLine 96 Well Plate 330 µL - Domi Domi on 4\n",
      "A1 of ClearLine 96 Well Plate 330 µL - Domi Domi on 8\n",
      "A1 of AAA Randlett Lab 300 Well Plate 300 µL on 2\n",
      "A1 of Fisher 96 Tip Rack 200 µL on 11\n",
      "A1 of Fisher 96 Tip Rack 200 µL on 9\n",
      "H12 of ClearLine 96 Well Plate 330 µL - Domi Domi on 7\n",
      "H12 of ClearLine 96 Well Plate 330 µL - Domi Domi on 4\n",
      "H12 of ClearLine 96 Well Plate 330 µL - Domi Domi on 8\n",
      "O20 of AAA Randlett Lab 300 Well Plate 300 µL on 2\n",
      "H12 of Fisher 96 Tip Rack 200 µL on 11\n",
      "H12 of Fisher 96 Tip Rack 200 µL on 9\n",
      "B1 of AA combi rack 15ml 1.5ml 2ml on 1\n",
      "A1 of AA combi rack 15ml 1.5ml 2ml on 1\n",
      "if all looks good, run next cell\n"
     ]
    }
   ],
   "source": [
    "# reset offsets for p300 USING p200 TIPS\n",
    "tiprack_200_10.set_offset(x=-3.8, y=2, z=-2)\n",
    "tiprack_200_11.set_offset(x=-3.8, y=2, z=-2)\n",
    "tiprack_200_9.set_offset(x=-3.8, y=2, z=-2)\n",
    "plate_gDNA_8.set_offset(x=-3.5, y=2.2, z=-3)\n",
    "plate_gDNA_7.set_offset(x=-3.5, y=2.2, z=-3)\n",
    "plate_gDNA_4.set_offset(x=-3.5, y=2.2, z=-3)\n",
    "eppendorfs.set_offset(x=-0.2, y=0.2, z=0)\n",
    "# plate_300well.set_offset(x=.9, y=-2, z=-6)\n",
    "\n",
    "# check the location of things\n",
    "def check_positions(check_pipette, labware_list, well_number = 0, dwell_time = 1):    \n",
    "    if check_pipette.has_tip:\n",
    "        check_pipette.drop_tip()\n",
    "    check_pipette.pick_up_tip()\n",
    "    for labware_name in labware_list:\n",
    "        well_label = labware_name.wells()[well_number]\n",
    "        print(well_label)\n",
    "        check_pipette.move_to(well_label.top())\n",
    "        time.sleep(dwell_time)\n",
    "    check_pipette.return_tip()\n",
    "\n",
    "# checking for PCR tubes, well plate, and tip racks\n",
    "check_positions(p300,[plate_gDNA_7, plate_gDNA_4, plate_gDNA_8, plate_300well, tiprack_200_11, tiprack_200_9],well_number = 0, dwell_time = 1)\n",
    "check_positions(p300,[plate_gDNA_7, plate_gDNA_4, plate_gDNA_8, plate_300well, tiprack_200_11, tiprack_200_9],well_number = -1, dwell_time = 1)\n",
    "# checking for eppendorf and falcon tubes\n",
    "check_positions(p300,[eppendorfs],well_number = 5, dwell_time = 1)\n",
    "check_positions(p300,[eppendorfs],well_number = 0, dwell_time = 1)\n",
    "\n",
    "print('if all looks good, run next cell')"
   ]
  },
  {
   "cell_type": "markdown",
   "metadata": {},
   "source": [
    "# How many fish do you have?\n",
    "change the variable below and run the cell"
   ]
  },
  {
   "cell_type": "code",
   "execution_count": 15,
   "metadata": {
    "scrolled": true
   },
   "outputs": [
    {
     "name": "stdout",
     "output_type": "stream",
     "text": [
      "cell has been run and you have 288 fish. Continue!\n"
     ]
    }
   ],
   "source": [
    "num_fish = 288 # change here and dont forget to run this cell!\n",
    "\n",
    "print(\"cell has been run and you have \" + str(num_fish) +\" fish. Continue!\")"
   ]
  },
  {
   "cell_type": "markdown",
   "metadata": {},
   "source": [
    "# Distribute NaOH to well plate\n",
    "\n",
    "- add no more than 3 ml of 2M NaOH to falcon tube and place in slot A1 of eppendorf rack (top left)."
   ]
  },
  {
   "cell_type": "code",
   "execution_count": 14,
   "metadata": {},
   "outputs": [
    {
     "name": "stdout",
     "output_type": "stream",
     "text": [
      "all done! oven time!! 15 minutes please :)\n",
      "ok\n"
     ]
    }
   ],
   "source": [
    "#reset pipettes to first tip in tiprack (because of offset calibrate step)\n",
    "p300.reset_tipracks()\n",
    "# set stats\n",
    "p300.well_bottom_clearance.aspirate = 2\n",
    "p300.well_bottom_clearance.dispense = 2.5\n",
    "\n",
    "def distribute_naoh(num_wells):\n",
    "    p300.distribute(7.5, eppendorfs['A1'], wells[:num_wells], new_tip='once', blow_out=True, blowout_location='source well', disposal_volume = 10)\n",
    "    print(\"all done! oven time!! 15 minutes please :)\")\n",
    "\n",
    "distribute_naoh(num_fish) # 6 min for 288 wells\n",
    "send_slack_message(\"all done with NaOH! - domi domi\")"
   ]
  },
  {
   "cell_type": "markdown",
   "metadata": {},
   "source": [
    "# Distribute Tris to well plate\n",
    "\n",
    "- add no more than 5 ml of 1M Tris pH8 to 2 falcon tubes and place in slot A4 and A5 of eppendorf rack (top right)."
   ]
  },
  {
   "cell_type": "code",
   "execution_count": 16,
   "metadata": {},
   "outputs": [
    {
     "name": "stdout",
     "output_type": "stream",
     "text": [
      "all done! set up to transfer your DNA to gDNA plates now :)\n",
      "all done! set up to transfer your DNA to gDNA plates now :)\n",
      "ok\n"
     ]
    }
   ],
   "source": [
    "# set stats\n",
    "p300.well_bottom_clearance.aspirate = 2\n",
    "p300.well_bottom_clearance.dispense = 4.5\n",
    "\n",
    "gdna_plate_wells = plate_gDNA_7.wells() + plate_gDNA_4.wells() + plate_gDNA_8.wells() # len = 288\n",
    "\n",
    "def distribute_tris_1(start,end,tube):\n",
    "    p300.distribute(30, eppendorfs[tube], wells[start:end], new_tip='once', blow_out=True, blowout_location='source well', disposal_volume = 10)\n",
    "\n",
    "if num_fish <= 144:\n",
    "    distribute_tris_1(0,num_fish, 'A4')\n",
    "else:\n",
    "    distribute_tris_1(0,144, 'A4')\n",
    "    distribute_tris_1(144,num_fish, 'A5')\n",
    "print(\"all done! set up to transfer your DNA to gDNA plates now :)\")\n",
    "send_slack_message(\"all done with Tris! - domi domi\")"
   ]
  },
  {
   "cell_type": "markdown",
   "metadata": {},
   "source": [
    "# Transfer DNA from well plate to gDNA plates\n",
    "\n",
    "- place 3 p200 tipracks in lab slots 9, 10, 11\n",
    "- place gDNA plates in lab slots 4, 8, 7"
   ]
  },
  {
   "cell_type": "code",
   "execution_count": null,
   "metadata": {},
   "outputs": [],
   "source": [
    "p300.well_bottom_clearance.aspirate = 3\n",
    "p300.well_bottom_clearance.dispense = 6\n",
    "\n",
    "p300.reset_tipracks()\n",
    "\n",
    "# transfer fish DNA from well plate to gDNA plates\n",
    "def transfer_fishies(pipette, volume, source_wells, target_wells, mix_before = False, mix_vol = 150, mix_times = 5):\n",
    "    # transfer from source wells to target wells, no homing in between\n",
    "    n_wells = len(source_wells)\n",
    "\n",
    "    for i in range(n_wells):\n",
    "        pipette.pick_up_tip()\n",
    "\n",
    "        if mix_before:\n",
    "            for rep in range(mix_times):\n",
    "                pipette.aspirate(mix_vol, source_wells[i]) \n",
    "                pipette.dispense(mix_vol, source_wells[i])   \n",
    "            pipette.blow_out(source_wells[i])\n",
    "\n",
    "        pipette.aspirate(volume, source_wells[i] )\n",
    "        pipette.dispense(volume, target_wells[i])\n",
    "        pipette.drop_tip(home_after=False)\n",
    "    print('Done! Your gDNA plates are ready for use :)')\n",
    "        \n",
    "transfer_fishies(p300, 100, wells[:num_fish], gdna_plate_wells, mix_before=True, mix_vol = 100, mix_times = 1)\n",
    "\n",
    "send_slack_message(\"all done transferring DNA to gDNA plates! - domi domi\")"
   ]
  },
  {
   "cell_type": "markdown",
   "metadata": {},
   "source": [
    "# Distribute master mix to PCR tubes\n",
    "\n",
    "- add eppendorfs in first 3 slots filled with your master mix\n",
    "\n",
    "For 96 tubes (5% more than base mix):\n",
    "        - 201.6 taq\n",
    "        - 10.1 FR primer mix\n",
    "        - 594.7 H2O"
   ]
  },
  {
   "cell_type": "code",
   "execution_count": 28,
   "metadata": {},
   "outputs": [
    {
     "name": "stdout",
     "output_type": "stream",
     "text": [
      "dispensing master mix to 3 plate/s...\n",
      "all done! add your DNA now :)\n"
     ]
    }
   ],
   "source": [
    "#reset pipettes to first tip in tiprack (because of offset calibrate step)\n",
    "p300.reset_tipracks()\n",
    "# set stats\n",
    "p300.well_bottom_clearance.aspirate = 1\n",
    "p300.well_bottom_clearance.dispense = .4\n",
    "\n",
    "# distribute master mix to PCR tubes\n",
    "def dispense_master_mix(num_pcr_plates):\n",
    "    if 1 <= num_pcr_plates <= 3:\n",
    "        print(\"dispensing master mix to \" + str(num_pcr_plates) + \" plate/s...\")\n",
    "    else:\n",
    "        print(\"woah woah woah...we've only got space for up to 3 plates\")\n",
    "        return   \n",
    "    for x in range(num_pcr_plates):\n",
    "        tube_count ='B' + str(x + 1)\n",
    "        p300.distribute(7.9, \n",
    "                eppendorfs[tube_count], \n",
    "                gdna_plate_wells[x*96:(x+1)*96], \n",
    "                new_tip='once',\n",
    "                touch_tip = False,\n",
    "                blow_out=True, \n",
    "                blowout_location='source well',\n",
    "                disposal_volume = 6)\n",
    "    print(\"all done! add your DNA now :)\")\n",
    "    \n",
    "# fyi - logic for function       \n",
    "# 0 b1   0:96\n",
    "# 1 b2   96:192\n",
    "# 2 b3   192:288\n",
    "\n",
    "# Master mix should be 5% more so for 96 tubes --> 100.8 tubes\n",
    "# taq: 201.6\n",
    "# primer mix: 10.1\n",
    "# H2O: 594.7\n",
    "# one eppendorf per 96 PCR tubes\n",
    "\n",
    "\n",
    "dispense_master_mix(3) # about 8 min for 3 plates\n",
    "\n",
    "send_slack_message(\"your master mix is ready! - domi domi\")"
   ]
  }
 ],
 "metadata": {
  "kernelspec": {
   "display_name": "Python 3",
   "language": "python",
   "name": "python3"
  },
  "language_info": {
   "codemirror_mode": {
    "name": "ipython",
    "version": 3
   },
   "file_extension": ".py",
   "mimetype": "text/x-python",
   "name": "python",
   "nbconvert_exporter": "python",
   "pygments_lexer": "ipython3",
   "version": "3.7.1"
  }
 },
 "nbformat": 4,
 "nbformat_minor": 2
}
